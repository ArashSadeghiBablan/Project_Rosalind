{
 "cells": [
  {
   "attachments": {},
   "cell_type": "markdown",
   "metadata": {},
   "source": [
    "## Rosalind Project Question 1\n",
    "- https://rosalind.info/problems/dna/"
   ]
  },
  {
   "cell_type": "code",
   "execution_count": 1,
   "metadata": {},
   "outputs": [
    {
     "name": "stdout",
     "output_type": "stream",
     "text": [
      "225 221 235 221\n"
     ]
    }
   ],
   "source": [
    "\n",
    "def Counting_DNA_Nucleotides(DNA_string):\n",
    "    ACGT_counter = {'A':0, 'C':0, 'G':0, 'T':0}\n",
    "    for i in DNA_string:\n",
    "        if i in ACGT_counter:\n",
    "            ACGT_counter[i] += 1\n",
    "    return(print(*ACGT_counter.values()))\n",
    "    \n",
    "example = 'CTAGTTCCATAACACATACACTCTCTGGTCATCTGCGAGAACTGCCATCCCGGGCACATCACTCGTGGGCCTACCGCGACTAAATACCGGCCGAGAGCAGTTCTAAGGGACACACCCCTGCAGTGGGTGATAGAGATTCAATTTGCGCGTTGAACCATCGAGTGGGATATGAGGATCGTGCGGTGTTAGCAGGCCCTCTTCTGGTAGTCCGCGTCGCCACTGTTCGGACTCTCATTAAAGACAATATTCCTCTCCGTGCTGAAGTGGAAGCGAGTCACACTCGTAAGTCATCGGTGATGAGTCGAGATAGCACGGATCTCGCCAATAAGAGCAGCTGACTAGAATCTAACCACCGCTGGGACAACGAGAGTTTCCTGATAGCCAATAAGTTTAGCCGCCGGTGCGATAACTACCAAAGTCTTTTCCCTGTGCTATTTGATCACAAGATTGACCAGAACCCGTGACGTGGCCCGTGCCCGCACAAGAACAAGGAAACGGGTGCGAGGGTTACGGGGGATACAGGTAATTGTGGGCCGGTTCCTCGATGAGGTTCTGGTTGTCAGCCAGGTCATGTTGGACGGTTGTACTAAGACGAGGTATATTGCACTTGCAAAACGTACTTTCTGCCTTGCATAAATACGATAGGGGTCTCAAATTACCTCGTAAGAAAATATTTGTAATGTTACAATTATAGGACACGTCCTCATCTTGGTCATGGTTACCGTCCTTTGCTCGTAGCACCATCAATCCCTCTTAGATTTGAGATTTCGAGCACGCGAAAGATAAGAATACAAGGCGAGGGATGATTGCACTCCCAGATGCATGTGTGGCCCAAAGCCTATATTGAGCATCGGGCTCGAGGTGCCTTGTGCCCCCGTTTGCACTGAAGTCGCCCTGGGAGG'\n",
    "Counting_DNA_Nucleotides(example)\n"
   ]
  },
  {
   "attachments": {},
   "cell_type": "markdown",
   "metadata": {},
   "source": [
    "The * symbol in the code is called the unpacking operator. It allows you to unpack the values of a collection (such as a list or a tuple) into separate positional arguments.\n",
    "\n",
    "In this case, when the function is called with print(*ACGT_counter.values()), it takes the values of the dictionary ACGT_counter and passes them as separate positional arguments to the print function. The * operator effectively \"unpacks\" the values of the dictionary into separate arguments, which are then printed on separate lines."
   ]
  }
 ],
 "metadata": {
  "kernelspec": {
   "display_name": "base",
   "language": "python",
   "name": "python3"
  },
  "language_info": {
   "codemirror_mode": {
    "name": "ipython",
    "version": 3
   },
   "file_extension": ".py",
   "mimetype": "text/x-python",
   "name": "python",
   "nbconvert_exporter": "python",
   "pygments_lexer": "ipython3",
   "version": "3.9.13"
  },
  "orig_nbformat": 4,
  "vscode": {
   "interpreter": {
    "hash": "ad2bdc8ecc057115af97d19610ffacc2b4e99fae6737bb82f5d7fb13d2f2c186"
   }
  }
 },
 "nbformat": 4,
 "nbformat_minor": 2
}
