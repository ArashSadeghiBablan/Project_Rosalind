{
 "cells": [
  {
   "attachments": {},
   "cell_type": "markdown",
   "metadata": {},
   "source": [
    "## Rosalind Project Question 3\n",
    "- https://rosalind.info/problems/revc/"
   ]
  },
  {
   "cell_type": "code",
   "execution_count": 1,
   "metadata": {},
   "outputs": [],
   "source": [
    "example = 'ACGGTGCGCAGATGTACAAAGGCCCCAACGGCGACGGGTGGTTGCTTTTGATGCCGGACGGGTGGCTTTCGAATTTTCTACAAATGAGACAAGCGACACTTATTGCAGTATAAAACGATTTCCCCCTACCACTAATTCAGCAACACTGGTTAATCGGGGTAGGTAAGTGGCCACGCGGGTCAATCTCATGCGAAATCCCCTTGCCGTAACCGGGGCAGGATCGCCTAACTTAGGCATCGGGGATTTGTCCTCCCGCGACACGTGCAAGATACATGCGAGCTAGTCCGTATCTGTCCCACCTCAGCTTTATTTAAAAGCCGCTGGGAAGGAACCCGGGCTTAACGCATTTAGTACAGCCCTGACGCCTACCGCCAAACAGATTAAGGCTGCAAGTTCTACCAGTAAAACCCTAAGGTGCTGGTCACGACTAGCACGACACTTACGACCGTCCTACCGGCATATACACTCAGGTGTCTAATACTACGGACCCGAAGGCACCTGTCCATCTGTTTAAGCAAGCCGGGTAGGGCATACGATTAGTGAGGGTTACGCACCACTTACACGCACCCTAGTCTGATCTGCTTTTCAGTACCCGTCCACCAGTGGCATGTGTGTTGCTCTTAAATCATCAGCTTACGGTTGGAATAACCGGACACTCTGTTATTATTGTATTGGTAGCAAATCCCAAACTACCCGTTGGTCATGCAATTAGAACCAAGGTCGGTCTTAGCATCGTAGTAGATTGTCGGGATTATAGGAACTATAAATTGTTGCACTTCGTCTCATACCTCCGCAACGTTCTACCGAAGAAACGATCGAGAGTGTTCAGTGGACGGTTGTCTGTGATCGGATTACATGCTGCAACGCAAGGTCCATGGCGGTACCCTATGAGCAGCGTACCCGTCATGATCCGTTATGAGCTTTGGGGGCTTTTTAAGTGTTTATTAAGCCCCCA'"
   ]
  },
  {
   "attachments": {},
   "cell_type": "markdown",
   "metadata": {},
   "source": [
    "#### Approach 1:"
   ]
  },
  {
   "cell_type": "code",
   "execution_count": 2,
   "metadata": {},
   "outputs": [
    {
     "data": {
      "text/plain": [
       "'TGGGGGCTTAATAAACACTTAAAAAGCCCCCAAAGCTCATAACGGATCATGACGGGTACGCTGCTCATAGGGTACCGCCATGGACCTTGCGTTGCAGCATGTAATCCGATCACAGACAACCGTCCACTGAACACTCTCGATCGTTTCTTCGGTAGAACGTTGCGGAGGTATGAGACGAAGTGCAACAATTTATAGTTCCTATAATCCCGACAATCTACTACGATGCTAAGACCGACCTTGGTTCTAATTGCATGACCAACGGGTAGTTTGGGATTTGCTACCAATACAATAATAACAGAGTGTCCGGTTATTCCAACCGTAAGCTGATGATTTAAGAGCAACACACATGCCACTGGTGGACGGGTACTGAAAAGCAGATCAGACTAGGGTGCGTGTAAGTGGTGCGTAACCCTCACTAATCGTATGCCCTACCCGGCTTGCTTAAACAGATGGACAGGTGCCTTCGGGTCCGTAGTATTAGACACCTGAGTGTATATGCCGGTAGGACGGTCGTAAGTGTCGTGCTAGTCGTGACCAGCACCTTAGGGTTTTACTGGTAGAACTTGCAGCCTTAATCTGTTTGGCGGTAGGCGTCAGGGCTGTACTAAATGCGTTAAGCCCGGGTTCCTTCCCAGCGGCTTTTAAATAAAGCTGAGGTGGGACAGATACGGACTAGCTCGCATGTATCTTGCACGTGTCGCGGGAGGACAAATCCCCGATGCCTAAGTTAGGCGATCCTGCCCCGGTTACGGCAAGGGGATTTCGCATGAGATTGACCCGCGTGGCCACTTACCTACCCCGATTAACCAGTGTTGCTGAATTAGTGGTAGGGGGAAATCGTTTTATACTGCAATAAGTGTCGCTTGTCTCATTTGTAGAAAATTCGAAAGCCACCCGTCCGGCATCAAAAGCAACCACCCGTCGCCGTTGGGGCCTTTGTACATCTGCGCACCGT'"
      ]
     },
     "execution_count": 2,
     "metadata": {},
     "output_type": "execute_result"
    }
   ],
   "source": [
    "def revc1(string):\n",
    "    key_values = {'A':'T', 'C':'G', 'G':'C', 'T':'A'}\n",
    "    reverse = ''\n",
    "    for i in string[::-1]:\n",
    "        reverse += key_values[i]\n",
    "    return reverse\n",
    "\n",
    "revc1(example)"
   ]
  },
  {
   "attachments": {},
   "cell_type": "markdown",
   "metadata": {},
   "source": [
    "#### Approach 2:"
   ]
  },
  {
   "cell_type": "code",
   "execution_count": 3,
   "metadata": {},
   "outputs": [
    {
     "data": {
      "text/plain": [
       "'TGGGGGCTTAATAAACACTTAAAAAGCCCCCAAAGCTCATAACGGATCATGACGGGTACGCTGCTCATAGGGTACCGCCATGGACCTTGCGTTGCAGCATGTAATCCGATCACAGACAACCGTCCACTGAACACTCTCGATCGTTTCTTCGGTAGAACGTTGCGGAGGTATGAGACGAAGTGCAACAATTTATAGTTCCTATAATCCCGACAATCTACTACGATGCTAAGACCGACCTTGGTTCTAATTGCATGACCAACGGGTAGTTTGGGATTTGCTACCAATACAATAATAACAGAGTGTCCGGTTATTCCAACCGTAAGCTGATGATTTAAGAGCAACACACATGCCACTGGTGGACGGGTACTGAAAAGCAGATCAGACTAGGGTGCGTGTAAGTGGTGCGTAACCCTCACTAATCGTATGCCCTACCCGGCTTGCTTAAACAGATGGACAGGTGCCTTCGGGTCCGTAGTATTAGACACCTGAGTGTATATGCCGGTAGGACGGTCGTAAGTGTCGTGCTAGTCGTGACCAGCACCTTAGGGTTTTACTGGTAGAACTTGCAGCCTTAATCTGTTTGGCGGTAGGCGTCAGGGCTGTACTAAATGCGTTAAGCCCGGGTTCCTTCCCAGCGGCTTTTAAATAAAGCTGAGGTGGGACAGATACGGACTAGCTCGCATGTATCTTGCACGTGTCGCGGGAGGACAAATCCCCGATGCCTAAGTTAGGCGATCCTGCCCCGGTTACGGCAAGGGGATTTCGCATGAGATTGACCCGCGTGGCCACTTACCTACCCCGATTAACCAGTGTTGCTGAATTAGTGGTAGGGGGAAATCGTTTTATACTGCAATAAGTGTCGCTTGTCTCATTTGTAGAAAATTCGAAAGCCACCCGTCCGGCATCAAAAGCAACCACCCGTCGCCGTTGGGGCCTTTGTACATCTGCGCACCGT'"
      ]
     },
     "execution_count": 3,
     "metadata": {},
     "output_type": "execute_result"
    }
   ],
   "source": [
    "def revc2(string):\n",
    "    key_values = str.maketrans(\"ACGT\", \"TGCA\")\n",
    "    return string[::-1].translate(key_values)\n",
    "\n",
    "revc2(example)"
   ]
  },
  {
   "attachments": {},
   "cell_type": "markdown",
   "metadata": {},
   "source": [
    "str.maketrans is a method available in Python's built-in str type that allows you to create a translation table for use with the str.translate method. The str.maketrans method takes two string arguments and returns a translation table that can be used to map characters from one string to the corresponding characters in the other string.\n",
    "\n",
    "For example, str.maketrans(\"ACGT\", \"TGCA\") creates a translation table that maps each character in the string \"ACGT\" to its corresponding character in the string \"TGCA\".\n",
    "\n",
    "str.translate is a method available in Python's built-in str type that performs character mapping based on a translation table created with str.maketrans. The str.translate method takes a translation table as an argument and returns a new string in which each character in the original string has been replaced with the corresponding character from the translation table.\n",
    "\n",
    "For example, \"AGCT\".translate(str.maketrans(\"ACGT\", \"TGCA\")) returns the string \"TCGA\", with each character in the original string \"AGCT\" being mapped to its corresponding character in the translation table created by str.maketrans(\"ACGT\", \"TGCA\").\n",
    "\n",
    "Using str.maketrans and str.translate can be a more efficient way to perform character mapping compared to using a for loop and a dictionary, as these methods are implemented in C and can be faster than pure Python code."
   ]
  }
 ],
 "metadata": {
  "kernelspec": {
   "display_name": "base",
   "language": "python",
   "name": "python3"
  },
  "language_info": {
   "codemirror_mode": {
    "name": "ipython",
    "version": 3
   },
   "file_extension": ".py",
   "mimetype": "text/x-python",
   "name": "python",
   "nbconvert_exporter": "python",
   "pygments_lexer": "ipython3",
   "version": "3.9.13"
  },
  "orig_nbformat": 4,
  "vscode": {
   "interpreter": {
    "hash": "ad2bdc8ecc057115af97d19610ffacc2b4e99fae6737bb82f5d7fb13d2f2c186"
   }
  }
 },
 "nbformat": 4,
 "nbformat_minor": 2
}
