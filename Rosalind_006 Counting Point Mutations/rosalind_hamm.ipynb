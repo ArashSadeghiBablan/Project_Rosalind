{
 "cells": [
  {
   "attachments": {},
   "cell_type": "markdown",
   "metadata": {},
   "source": [
    "## Rosalind Project Question 6\n",
    "- https://rosalind.info/problems/hamm/"
   ]
  },
  {
   "cell_type": "code",
   "execution_count": 1,
   "metadata": {},
   "outputs": [],
   "source": [
    "# Input:\n",
    "ex_1 = 'GCAGTGCGGTGCTCTCTGCTGGAACCGTAAAGGAGCGATTTGTAGCTTGCGGGGCCCCTCAACCCGCCAGCTTTAGACAGAAGGCAACCTGGGGCCCAGTACAGAAATGGAGCCAGTAGGAGTGGACCTCTGTTTCCGTCGAGTTACCGCCCGTGCCACCCAATGCATAGCCACGCAACACTCGAATTAGTACTTCTGACTTCGGGGCATTAGGTTTGCAGGGATCTAAATTTCCAGACAGTGACGTACGCGATCTACGAAAATCCGGAAATAACCACAGTCAGTTTGGCGTAACCGGCGTACCTGGTAGCGCTACGCAGCGGTACTAGGCCAGTAACCTTCGGTCTCAATGTTCTCTTTAGTTTGACAGCCCCAATGCGCTTCGTGATTTGACCCACTGATCAACGATCGTTGAGTACGAACTTAGTTGCGGTGGCCTCCGTCTAGTCCTGCCATCTACCCGCGCATTCTTGATCCAGATACGAGCCCGAAATAGAGGCCTTTCTGTCGCACTTCCGCATATTGTAACCATCGTACAACCAATCACGACTGGTACGACGTATTATTCCATGCATACGATCCCGGAGGGTAGTCAAGCCAGGGCACTATGGCTCGATGCCAAAACGTCTGATTCTCTAGTACCTGGCTTAACAAGCTAGCGGTCTGTCTTGAGCAAAGCTGATTTCATTTAAGTTTAGAAAGCGAGCACCTTAAGCCTTTTCTAGCTGACCATGAAAGGTTTCCAGCAAATCTTTCATCGAAGACATCCGCGGGCTAGCCTAATCTGTGCCTTGTGCCCGTCATTTACGGGGCTGGGTACGCCCTCGTGCAGAGCCGCTTGACGACAAGGAAAGGGCCGTCTGATCGACAATGTCGTTAGAGAACAAGACTCAACAACCCGAATGCTGTTTGTTGTGTGGGGTTAAGGAGGCGTTGTCAAGGGAATCCTATTACCTGAGTACGGTTC'\n",
    "ex_2 = 'CTAGCGCAGCCCTCGTATTTGAAAGGGTATCGTTGCGACTTGAGGATTCCGGGGCTCCTCGGCACGCCAGCCACAAGCAGGCGGAACCCCACAGCCACTTAAATCAATCGGCACCGAAAGGAACCGCCTCGGGCGCCGCTCAGTAACAATCGCGGCAACCGATGGCATTGAGGGAAAGTACAAGGTGGAGAAAAGTTGAGTGCAGCGCATTAGTTAACCAAGGCTTGGAATCCCCCCACAGGGTCGTATGTCGAGTGGACCCCTTAGGTTAGAAGCTCAACTATATACTGGTTCGCGTTATGACTACTCGCGGAACGCCGGGATACGCTGCTTGTCCGCTTCGGGAGACTGCCTTCGCTTCGCTTCAAAACCCTAATGGGCATCGTGATTGGAGGCTCTGCACAAGTGGTGCTGAGTACGAAGCTAAACGCTCCGCCCGCCGACTAATCATGCTATCTTCTCTCTCCTGGTTATTACAGCGGTGAGGAAGTAGTGCAGGCATGACGTTATGTCAGTTGCCTCCCTGACATGAAGTCATCCCACGCTGGTAGCACCCCTTCCAGGTCTGCTTGCCTCCGTTTGCTTAGGGGGTATAGGATCGGACTCAACAACAGGACTAAAACACATGGTACGTTCTCGGAGCTATCCTGCCAAGCAAACGGACGTTAGTCAACAAATTTTAATATGGTGGCGGTTACCCATCTATCCGATACAACCTGTTCTATGTTACCCGTACAAGGCTTTAGGTGATAGCACACTGAGATCCCACGGACGTGTGGCTAAGTTAGGCGTACTACCGACGTTGTAGCGGCCTACGGGCGCACGCAATAAGAGCCCCTATGGACTCAGTTAGGCGTCGTATGTTCGGCAAGCTCGCGTCAGGCCCGTCCTCATAAACCCAAGTCTGCATTGATCTGTGGGGTGAAGCTGACTTGAACATGGGATCCTTTACACCCGCATTCTGTTC'"
   ]
  },
  {
   "cell_type": "markdown",
   "metadata": {},
   "source": [
    "#### Approach 1:"
   ]
  },
  {
   "cell_type": "code",
   "execution_count": 2,
   "metadata": {},
   "outputs": [],
   "source": [
    "def hamm1(DNA1,DNA2):\n",
    "    ctr = 0\n",
    "    for i in range(0,len(ex_1)):\n",
    "        if DNA1[i] != DNA2[i]:\n",
    "            ctr += 1\n",
    "    return ctr"
   ]
  },
  {
   "attachments": {},
   "cell_type": "markdown",
   "metadata": {},
   "source": [
    "#### Approach 2:"
   ]
  },
  {
   "cell_type": "code",
   "execution_count": 3,
   "metadata": {},
   "outputs": [],
   "source": [
    "def hamm2(DNA1, DNA2):\n",
    "    ctr = 0\n",
    "    for char1, char2 in zip(DNA1, DNA2):\n",
    "        if char1 != char2:\n",
    "            ctr += 1\n",
    "    return ctr\n"
   ]
  },
  {
   "cell_type": "markdown",
   "metadata": {},
   "source": [
    "#### Approach 3:"
   ]
  },
  {
   "cell_type": "code",
   "execution_count": 4,
   "metadata": {},
   "outputs": [],
   "source": [
    "def hamm3(DNA1, DNA2):\n",
    "    return sum(1 for char1, char2 in zip(DNA1, DNA2) if char1 != char2)"
   ]
  },
  {
   "cell_type": "markdown",
   "metadata": {},
   "source": [
    "This code uses zip() to iterate through the two input strings in parallel, then generates a list of 1s for every position where the characters are different. The sum() function is used to add up the number of differences, giving us the Hamming distance."
   ]
  },
  {
   "attachments": {},
   "cell_type": "markdown",
   "metadata": {},
   "source": [
    "#### Approach 4:"
   ]
  },
  {
   "cell_type": "code",
   "execution_count": 5,
   "metadata": {},
   "outputs": [],
   "source": [
    "import numpy as np\n",
    "\n",
    "def hamm4(DNA1, DNA2):\n",
    "    arr1 = np.array(list(DNA1))\n",
    "    arr2 = np.array(list(DNA2))\n",
    "    return np.sum(arr1 != arr2)\n"
   ]
  },
  {
   "attachments": {},
   "cell_type": "markdown",
   "metadata": {},
   "source": [
    "This code first converts the input strings into NumPy arrays using the list() and np.array() functions. Then, it uses the != operator to create a boolean array indicating which elements in the two arrays are not equal. Finally, it uses np.sum() to add up the number of True values in the boolean array, which gives us the Hamming distance."
   ]
  },
  {
   "cell_type": "code",
   "execution_count": 6,
   "metadata": {},
   "outputs": [
    {
     "name": "stdout",
     "output_type": "stream",
     "text": [
      "487\n",
      "487\n",
      "487\n",
      "487\n"
     ]
    }
   ],
   "source": [
    "print(hamm1(ex_1,ex_2))\n",
    "print(hamm2(ex_1,ex_2))\n",
    "print(hamm3(ex_1,ex_2))\n",
    "print(hamm4(ex_1,ex_2))"
   ]
  }
 ],
 "metadata": {
  "kernelspec": {
   "display_name": "base",
   "language": "python",
   "name": "python3"
  },
  "language_info": {
   "codemirror_mode": {
    "name": "ipython",
    "version": 3
   },
   "file_extension": ".py",
   "mimetype": "text/x-python",
   "name": "python",
   "nbconvert_exporter": "python",
   "pygments_lexer": "ipython3",
   "version": "3.9.13"
  },
  "orig_nbformat": 4,
  "vscode": {
   "interpreter": {
    "hash": "ad2bdc8ecc057115af97d19610ffacc2b4e99fae6737bb82f5d7fb13d2f2c186"
   }
  }
 },
 "nbformat": 4,
 "nbformat_minor": 2
}
