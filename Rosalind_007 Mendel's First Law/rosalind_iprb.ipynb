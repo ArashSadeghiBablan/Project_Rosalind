{
 "cells": [
  {
   "attachments": {},
   "cell_type": "markdown",
   "metadata": {},
   "source": [
    "## Rosalind Project Question 8\n",
    "- https://rosalind.info/problems/iprb/"
   ]
  },
  {
   "cell_type": "code",
   "execution_count": 1,
   "metadata": {},
   "outputs": [],
   "source": [
    "# Input: 15 23 27\n",
    "k = 15\n",
    "m = 23\n",
    "n = 27"
   ]
  },
  {
   "cell_type": "markdown",
   "metadata": {},
   "source": [
    "#### Approach 1:"
   ]
  },
  {
   "cell_type": "code",
   "execution_count": 2,
   "metadata": {},
   "outputs": [],
   "source": [
    "# Factorial calculator:\n",
    "def factorial(n):\n",
    "    result = 1\n",
    "    for i in range (1,n+1):\n",
    "        result = result * i\n",
    "    return result\n",
    "\n",
    "# Combination calculator function\n",
    "def C(m,n):\n",
    "    if m < n or m < 0 or n < 0:\n",
    "        return 0\n",
    "    result = 1\n",
    "    for i in range (m - n + 1, m + 1):\n",
    "        result = result * i\n",
    "    return int(result / factorial(n))\n",
    "\n",
    "# Solving the question:\n",
    "def solve(k,m,n):\n",
    "    all_possible = C(k+m+n, 2)\n",
    "    prob_rec_rec_RES = C(n, 2) / all_possible\n",
    "    prob_het_het_RES = (1/4) * ( C(m, 2) / all_possible )\n",
    "    prob_het_res_RES = (2/4) * ( (C(m, 1) * C(n, 1)) / all_possible )\n",
    "    \n",
    "    return 1 - (prob_rec_rec_RES + prob_het_het_RES + prob_het_res_RES)\n",
    "    "
   ]
  },
  {
   "attachments": {},
   "cell_type": "markdown",
   "metadata": {},
   "source": [
    "#### Output Check"
   ]
  },
  {
   "cell_type": "code",
   "execution_count": 3,
   "metadata": {},
   "outputs": [
    {
     "data": {
      "text/plain": [
       "0.6515625"
      ]
     },
     "execution_count": 3,
     "metadata": {},
     "output_type": "execute_result"
    }
   ],
   "source": [
    "solve(k,m,n)"
   ]
  }
 ],
 "metadata": {
  "kernelspec": {
   "display_name": "base",
   "language": "python",
   "name": "python3"
  },
  "language_info": {
   "codemirror_mode": {
    "name": "ipython",
    "version": 3
   },
   "file_extension": ".py",
   "mimetype": "text/x-python",
   "name": "python",
   "nbconvert_exporter": "python",
   "pygments_lexer": "ipython3",
   "version": "3.9.13"
  },
  "orig_nbformat": 4,
  "vscode": {
   "interpreter": {
    "hash": "ad2bdc8ecc057115af97d19610ffacc2b4e99fae6737bb82f5d7fb13d2f2c186"
   }
  }
 },
 "nbformat": 4,
 "nbformat_minor": 2
}
